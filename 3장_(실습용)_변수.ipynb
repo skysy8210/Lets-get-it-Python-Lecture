{
  "nbformat": 4,
  "nbformat_minor": 0,
  "metadata": {
    "colab": {
      "name": "3장-(실습용)-변수.ipynb",
      "provenance": [],
      "collapsed_sections": [],
      "include_colab_link": true
    },
    "kernelspec": {
      "name": "python3",
      "display_name": "Python 3"
    }
  },
  "cells": [
    {
      "cell_type": "markdown",
      "metadata": {
        "id": "view-in-github",
        "colab_type": "text"
      },
      "source": [
        "<a href=\"https://colab.research.google.com/github/skysy8210/Lets-get-it-Python-Lecture/blob/main/3%EC%9E%A5_(%EC%8B%A4%EC%8A%B5%EC%9A%A9)_%EB%B3%80%EC%88%98.ipynb\" target=\"_parent\"><img src=\"https://colab.research.google.com/assets/colab-badge.svg\" alt=\"Open In Colab\"/></a>"
      ]
    },
    {
      "cell_type": "markdown",
      "metadata": {
        "id": "V1qdZa0ljBQz"
      },
      "source": [
        "# 1. 변수\n",
        "\n",
        "\n",
        "> 변수이름 = 저장할 데이터\n",
        "\n",
        "\n",
        "<img src = 'https://github.com/teacher-jiejie/allinone_AI/blob/images/%E1%84%87%E1%85%A7%E1%86%AB%E1%84%89%E1%85%AE%E1%84%8B%E1%85%B5%E1%84%86%E1%85%B5%E1%84%8C%E1%85%B5.png?raw=true' width =500>\n",
        "\n",
        "\n"
      ]
    },
    {
      "cell_type": "code",
      "metadata": {
        "id": "qGjujI1abo3T",
        "colab": {
          "base_uri": "https://localhost:8080/"
        },
        "outputId": "ced9c934-ac93-4914-d64a-4a44ac739980"
      },
      "source": [
        "a=10\n",
        "print(a)"
      ],
      "execution_count": 5,
      "outputs": [
        {
          "output_type": "stream",
          "name": "stdout",
          "text": [
            "10\n"
          ]
        }
      ]
    },
    {
      "cell_type": "markdown",
      "metadata": {
        "id": "YrIAYo4nP3wW"
      },
      "source": [
        "### 변수를 활용하여 연산하기 \n",
        "1) 과일 가격 계산하기"
      ]
    },
    {
      "cell_type": "code",
      "metadata": {
        "id": "YY_1rgwNbpAe",
        "colab": {
          "base_uri": "https://localhost:8080/"
        },
        "outputId": "daa5ada5-72b2-4d4b-8299-f31e6ec7f2a9"
      },
      "source": [
        "# 사과 3개, 바나나1개, 키위2개 구매한 가격은?\n",
        "a_cnt=int(input('사과를 몇개 구매하였습니까?'))\n",
        "b_cnt=int(input('바나나를 몇개 구매하였습니까?'))\n",
        "k_cnt=int(input('키위를 몇개 구매하였습니까?'))\n",
        "price=a_cnt*1000+b_cnt*2000+k_cnt*5000\n",
        "print(price)"
      ],
      "execution_count": 53,
      "outputs": [
        {
          "output_type": "stream",
          "name": "stdout",
          "text": [
            "사과를 몇개 구매하였습니까?3\n",
            "바나나를 몇개 구매하였습니까?4\n",
            "키위를 몇개 구매하였습니까?5\n",
            "36000\n"
          ]
        }
      ]
    },
    {
      "cell_type": "markdown",
      "metadata": {
        "id": "XTITfZwoisIu"
      },
      "source": [
        "vip는 20% 할인된다. 동일한 물건을 구매했을 때 vip가 내는 가격을 새로운 변수에 저장하여 출력하기"
      ]
    },
    {
      "cell_type": "code",
      "metadata": {
        "id": "A7bhHZu-nnE_",
        "colab": {
          "base_uri": "https://localhost:8080/"
        },
        "outputId": "8359cdb1-d735-4782-a5d8-b43699fae462"
      },
      "source": [
        "vip=price*0.8\n",
        "print(vip, '원 입니다.')"
      ],
      "execution_count": 55,
      "outputs": [
        {
          "output_type": "stream",
          "name": "stdout",
          "text": [
            "28800.0 원 입니다.\n"
          ]
        }
      ]
    },
    {
      "cell_type": "markdown",
      "metadata": {
        "id": "2XYFTD_fTFMY"
      },
      "source": [
        "2) 1년마다 키가 10cm씩 자라는 농구선수가 있다. \n",
        "\n",
        "\n",
        "*   2017년 - 175.5cm\n",
        "*   2018년 - 185.5cm\n",
        "*   2019년 - 195.5cm\n",
        "*   2020년 - 205.5cm\n",
        "\n",
        "\n",
        "년도별 농구선수의 키를 출력해보자\n"
      ]
    },
    {
      "cell_type": "code",
      "metadata": {
        "id": "P9RoHoaqTEdT",
        "colab": {
          "base_uri": "https://localhost:8080/"
        },
        "outputId": "44264c9f-b54a-4e6b-be83-8cee6b4c71ab"
      },
      "source": [
        "year=2017\n",
        "height=175.5\n",
        "print(year, '-', height,'cm')\n",
        "year=year+1\n",
        "height=height+10\n",
        "print(year, '-', height,'cm')\n",
        "year+=1\n",
        "height+=10\n",
        "print(year, '-', height,'cm')\n",
        "year+=1\n",
        "height+=10\n",
        "print(year, '-', height,'cm')"
      ],
      "execution_count": 21,
      "outputs": [
        {
          "output_type": "stream",
          "name": "stdout",
          "text": [
            "2017 - 175.5 cm\n",
            "2018 - 185.5 cm\n",
            "2019 - 195.5 cm\n",
            "2020 - 205.5 cm\n"
          ]
        }
      ]
    },
    {
      "cell_type": "markdown",
      "metadata": {
        "id": "s4qBlOzyUjIw"
      },
      "source": [
        "> 동일한 변수를 증가/감소시킬 때\n",
        "\n",
        "```\n",
        "# a에 3을 더하시오\n",
        "a = a+3\n",
        "```\n",
        "\n",
        "```\n",
        "# 간략하게 표현\n",
        "a += 3\n",
        "```"
      ]
    },
    {
      "cell_type": "code",
      "metadata": {
        "id": "2g086SCSTEj6",
        "colab": {
          "base_uri": "https://localhost:8080/"
        },
        "outputId": "350c0132-aa62-4f30-e1cb-4fe88b3b6d7d"
      },
      "source": [
        "a=3\n",
        "print(a)\n",
        "a+=3\n",
        "print(a)"
      ],
      "execution_count": 22,
      "outputs": [
        {
          "output_type": "stream",
          "name": "stdout",
          "text": [
            "3\n",
            "6\n"
          ]
        }
      ]
    },
    {
      "cell_type": "markdown",
      "metadata": {
        "id": "Pwqs0PYMWYpw"
      },
      "source": [
        "> 입력받아 저장하기"
      ]
    },
    {
      "cell_type": "code",
      "metadata": {
        "id": "q6FsC2EzWN_t",
        "colab": {
          "base_uri": "https://localhost:8080/"
        },
        "outputId": "30c38039-379a-472c-8fec-a199323a8eac"
      },
      "source": [
        "year=input('몇년도 입니까?')\n",
        "print(year, '년 입니다.')"
      ],
      "execution_count": 25,
      "outputs": [
        {
          "output_type": "stream",
          "name": "stdout",
          "text": [
            "몇년도 입니까?2022\n",
            "2022 년 입니다.\n"
          ]
        }
      ]
    },
    {
      "cell_type": "markdown",
      "metadata": {
        "id": "BZHvWTLfU4kx"
      },
      "source": [
        "# 2. 데이터타입\n",
        "\n",
        "> 정수 int\n",
        "\n",
        "> 실수 float\n",
        "\n",
        "> 문자 str"
      ]
    },
    {
      "cell_type": "code",
      "metadata": {
        "id": "Yh4EzMknbpFi",
        "colab": {
          "base_uri": "https://localhost:8080/"
        },
        "outputId": "0bbe9046-544d-4f67-ac4a-24c202b5253a"
      },
      "source": [
        "num=20\n",
        "print(type(num))"
      ],
      "execution_count": 26,
      "outputs": [
        {
          "output_type": "stream",
          "name": "stdout",
          "text": [
            "<class 'int'>\n"
          ]
        }
      ]
    },
    {
      "cell_type": "code",
      "metadata": {
        "id": "7frJWouPm-8e",
        "colab": {
          "base_uri": "https://localhost:8080/"
        },
        "outputId": "8367c886-4b27-4001-cca1-2fc99d3ecea1"
      },
      "source": [
        "num=21.0\n",
        "print(type(num))"
      ],
      "execution_count": 27,
      "outputs": [
        {
          "output_type": "stream",
          "name": "stdout",
          "text": [
            "<class 'float'>\n"
          ]
        }
      ]
    },
    {
      "cell_type": "code",
      "metadata": {
        "id": "_m8OTfEln_Qn",
        "colab": {
          "base_uri": "https://localhost:8080/"
        },
        "outputId": "b630bd19-f224-4249-bf99-81bf597cc708"
      },
      "source": [
        "word='안녕'\n",
        "print(type(word))"
      ],
      "execution_count": 28,
      "outputs": [
        {
          "output_type": "stream",
          "name": "stdout",
          "text": [
            "<class 'str'>\n"
          ]
        }
      ]
    },
    {
      "cell_type": "markdown",
      "metadata": {
        "id": "iE7vQvAqSLQJ"
      },
      "source": [
        "# 3. 데이터타입 변경하기\n",
        "변경하려는 데이터타입으로 감싸주기\n",
        "\n",
        "> 정수로 변경하기\n",
        "<br/> int(변수)\n",
        "\n",
        "> 실수로 변경하기\n",
        "<br/> float(변수)\n",
        "\n",
        "> 문자로 변경하기\n",
        "<br/> str(변수)\n",
        "\n"
      ]
    },
    {
      "cell_type": "code",
      "metadata": {
        "id": "m0Q-OfX8oAfP",
        "colab": {
          "base_uri": "https://localhost:8080/"
        },
        "outputId": "77079cd0-f5e2-4357-d533-ad1cc98b42c8"
      },
      "source": [
        "# 정수를 실수로 \n",
        "score=79\n",
        "score=float(score)\n",
        "print(score)"
      ],
      "execution_count": 33,
      "outputs": [
        {
          "output_type": "stream",
          "name": "stdout",
          "text": [
            "79.0\n"
          ]
        }
      ]
    },
    {
      "cell_type": "code",
      "metadata": {
        "id": "JMm4V8_RpJgf",
        "colab": {
          "base_uri": "https://localhost:8080/"
        },
        "outputId": "c6200ecb-26b9-4134-9f61-b92bb7d96ad9"
      },
      "source": [
        "# 실수를 문자로\n",
        "score=80.5\n",
        "score=str(score)\n",
        "score_2=75.2\n",
        "score_2=str(score_2)\n",
        "print(score+score_2)\n",
        "print(type(score), type(score_2))"
      ],
      "execution_count": 39,
      "outputs": [
        {
          "output_type": "stream",
          "name": "stdout",
          "text": [
            "80.575.2\n",
            "<class 'str'> <class 'str'>\n"
          ]
        }
      ]
    },
    {
      "cell_type": "code",
      "source": [
        "#문자를 실수로\n",
        "a='90.2'\n",
        "a=float(a)\n",
        "b='89'\n",
        "b=int(b)"
      ],
      "metadata": {
        "colab": {
          "base_uri": "https://localhost:8080/"
        },
        "id": "nsmUIl5KhFS8",
        "outputId": "d091ab6f-1bb3-4d18-92d1-7ef09f5a5409"
      },
      "execution_count": 40,
      "outputs": [
        {
          "output_type": "stream",
          "name": "stdout",
          "text": [
            "179.2\n"
          ]
        }
      ]
    },
    {
      "cell_type": "markdown",
      "metadata": {
        "id": "QE3RzURDQc_J"
      },
      "source": [
        "# 4. 원의 둘레, 넓이, 구의 겉넓이, 부피 구하기\n",
        "\n",
        "<img src='https://github.com/teacher-jiejie/allinone_AI/blob/images/%EC%9B%90%20%EA%B4%80%EB%A0%A8%20%EA%B3%B5%EC%8B%9D.png?raw=true' width = 300>"
      ]
    },
    {
      "cell_type": "code",
      "metadata": {
        "id": "iMRYFpdZQXNz",
        "colab": {
          "base_uri": "https://localhost:8080/"
        },
        "outputId": "f4a6e5d3-75aa-48a5-ea49-f1a22a74d792"
      },
      "source": [
        "p=3.141592\n",
        "r=int(input('반지름의 길이는? :'))"
      ],
      "execution_count": 46,
      "outputs": [
        {
          "name": "stdout",
          "output_type": "stream",
          "text": [
            "반지름의 길이는? :999\n"
          ]
        }
      ]
    },
    {
      "cell_type": "markdown",
      "metadata": {
        "id": "AHPS_AzrSBij"
      },
      "source": [
        "실습 : 반지름을 입력받아서, 입력받은 반지름을 갖는 원의 둘레, 넓이, 구 겉넓이, 부피를 구하시오"
      ]
    },
    {
      "cell_type": "code",
      "metadata": {
        "id": "GS8rFYRoRzWi",
        "colab": {
          "base_uri": "https://localhost:8080/"
        },
        "outputId": "d27b3c99-5f2d-45d1-b28e-24ee8a66981c"
      },
      "source": [
        "result_1=p*r*2\n",
        "print(result_1)"
      ],
      "execution_count": 47,
      "outputs": [
        {
          "output_type": "stream",
          "name": "stdout",
          "text": [
            "6276.900816\n"
          ]
        }
      ]
    },
    {
      "cell_type": "code",
      "metadata": {
        "id": "EhVafoGoXB0Y",
        "colab": {
          "base_uri": "https://localhost:8080/"
        },
        "outputId": "1f8520b1-faa7-407b-d0ae-1b7d1f1562e1"
      },
      "source": [
        "result_2=p*r**2\n",
        "print(result_2)"
      ],
      "execution_count": 49,
      "outputs": [
        {
          "output_type": "stream",
          "name": "stdout",
          "text": [
            "3135311.9575920003\n"
          ]
        }
      ]
    },
    {
      "cell_type": "code",
      "metadata": {
        "id": "Y8eiYtjYXI0X",
        "colab": {
          "base_uri": "https://localhost:8080/"
        },
        "outputId": "f584f4a7-ae8c-4066-c01a-4b05d24e4aa2"
      },
      "source": [
        "result_3=p*r**2*4\n",
        "print(result_3)"
      ],
      "execution_count": 51,
      "outputs": [
        {
          "output_type": "stream",
          "name": "stdout",
          "text": [
            "12541247.830368001\n"
          ]
        }
      ]
    },
    {
      "cell_type": "markdown",
      "metadata": {
        "id": "LcMyhj6OYFAW"
      },
      "source": [
        "윗 줄의 r과 아랫줄의 r은 동일하므로 두 줄을 한 줄로 줄여서 표현하기\n",
        "\n",
        "\n",
        "```\n",
        "r = input('반지름은? ')\n",
        "r = int(r)\n",
        "type(r)\n",
        "```\n",
        "\n"
      ]
    },
    {
      "cell_type": "code",
      "metadata": {
        "id": "N2X3lSjVXigp",
        "colab": {
          "base_uri": "https://localhost:8080/"
        },
        "outputId": "01e8ef84-c5df-4f49-a925-013072a832f2"
      },
      "source": [
        "r=int(input('반지름은?'))\n",
        "print(type(r))"
      ],
      "execution_count": 52,
      "outputs": [
        {
          "output_type": "stream",
          "name": "stdout",
          "text": [
            "반지름은?2\n",
            "<class 'int'>\n"
          ]
        }
      ]
    },
    {
      "cell_type": "code",
      "metadata": {
        "id": "0NxkHjWGYRBk",
        "colab": {
          "base_uri": "https://localhost:8080/"
        },
        "outputId": "45de997f-60aa-49b7-9b20-3e3c5d7c8395"
      },
      "source": [
        "b='45'\n",
        "print(float(b)*3)"
      ],
      "execution_count": 56,
      "outputs": [
        {
          "output_type": "stream",
          "name": "stdout",
          "text": [
            "135.0\n"
          ]
        }
      ]
    },
    {
      "cell_type": "code",
      "source": [
        "k_score=int(input('국어 점수는?'))\n",
        "m_score=int(input('수학 점수는?'))\n",
        "e_score=int(input('영어 점수는?'))\n",
        "print('최종 점수는',k_score*0.16+m_score*0.34+e_score*0.23, '입니다!')"
      ],
      "metadata": {
        "colab": {
          "base_uri": "https://localhost:8080/"
        },
        "id": "uOsXqLzunLZa",
        "outputId": "9d5db01b-44d7-42bb-9625-a23623b6fcc9"
      },
      "execution_count": 63,
      "outputs": [
        {
          "output_type": "stream",
          "name": "stdout",
          "text": [
            "국어 점수는?80\n",
            "수학 점수는?60\n",
            "영어 점수는?93\n",
            "최종 점수는 54.59 입니다!\n"
          ]
        }
      ]
    }
  ]
}