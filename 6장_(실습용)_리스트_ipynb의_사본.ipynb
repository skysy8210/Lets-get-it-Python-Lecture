{
  "nbformat": 4,
  "nbformat_minor": 0,
  "metadata": {
    "colab": {
      "name": "6장-(실습용)-리스트.ipynb의 사본",
      "provenance": [],
      "collapsed_sections": [],
      "include_colab_link": true
    },
    "kernelspec": {
      "name": "python3",
      "display_name": "Python 3"
    }
  },
  "cells": [
    {
      "cell_type": "markdown",
      "metadata": {
        "id": "view-in-github",
        "colab_type": "text"
      },
      "source": [
        "<a href=\"https://colab.research.google.com/github/skysy8210/Lets-get-it-Python-Lecture/blob/main/6%EC%9E%A5_(%EC%8B%A4%EC%8A%B5%EC%9A%A9)_%EB%A6%AC%EC%8A%A4%ED%8A%B8_ipynb%EC%9D%98_%EC%82%AC%EB%B3%B8.ipynb\" target=\"_parent\"><img src=\"https://colab.research.google.com/assets/colab-badge.svg\" alt=\"Open In Colab\"/></a>"
      ]
    },
    {
      "cell_type": "markdown",
      "metadata": {
        "id": "6n9IjADZt4Z5"
      },
      "source": [
        "#  1. 리스트\n",
        "\n",
        "```\n",
        "리스트 여러 데이터를 한 번에 묶어서 표현\n",
        "리스트이름 = [데이터1, 데이터2, ..., 데이터n]\n",
        "```\n",
        "\n",
        "> 실생활의 리스트 \n",
        "    \n",
        "<img src='https://github.com/teacher-jiejie/allinone_AI/blob/images/56_%EC%82%AC%EC%95%BC%ED%95%A0%20%EB%A6%AC%EC%8A%A4%ED%8A%B8.png?raw=true' width=150>\n",
        "\n",
        "</br>\n",
        "</br>\n",
        "\n",
        "> 파이썬의 리스트\n",
        "\n",
        "<img src='https://github.com/teacher-jiejie/allinone_AI/blob/images/6_%EB%A6%AC%EC%8A%A4%ED%8A%B8%EA%B0%9C%EB%85%90.png?raw=true' width=600>\n",
        "\n",
        "\n",
        "\n"
      ]
    },
    {
      "cell_type": "code",
      "metadata": {
        "id": "FAe8AhxFMRWQ"
      },
      "source": [
        "# 1월 지출부터 6월 지출까지 리스트로 만들기\n",
        "spending_6mon=[25, 36, 8, 53, 24, 56]"
      ],
      "execution_count": null,
      "outputs": []
    },
    {
      "cell_type": "code",
      "metadata": {
        "id": "AfL3S1RbMRZb"
      },
      "source": [
        ""
      ],
      "execution_count": null,
      "outputs": []
    },
    {
      "cell_type": "code",
      "metadata": {
        "id": "pletqKwvMRcq"
      },
      "source": [
        ""
      ],
      "execution_count": null,
      "outputs": []
    },
    {
      "cell_type": "markdown",
      "metadata": {
        "id": "TKe3-L5lNYYN"
      },
      "source": [
        "### 리스트와 인덱스\n",
        "<img src ='https://github.com/teacher-jiejie/allinone_AI/blob/images/7_%EB%A6%AC%EC%8A%A4%ED%8A%B8%EC%9D%B8%EB%8D%B1%EC%8A%A4.png?raw=true' width =700>"
      ]
    },
    {
      "cell_type": "code",
      "metadata": {
        "id": "l97FX7QOMlYm"
      },
      "source": [
        "# 1월 지출은?\n",
        "spending_6mon[0]"
      ],
      "execution_count": null,
      "outputs": []
    },
    {
      "cell_type": "code",
      "metadata": {
        "id": "XQJ_ouroMlaz"
      },
      "source": [
        "# 6월 지출은?\n",
        "spending_6mon[5]"
      ],
      "execution_count": null,
      "outputs": []
    },
    {
      "cell_type": "code",
      "metadata": {
        "id": "70ooJdGDMlh4"
      },
      "source": [
        "# 3월 지출은?\n",
        "spending_6mon[2]"
      ],
      "execution_count": null,
      "outputs": []
    },
    {
      "cell_type": "markdown",
      "metadata": {
        "id": "Er1EdCA3jfx3"
      },
      "source": [
        "알고보니 4월 지출이 10낮게 기록됐다. 4월 지출에 10을 더하시오"
      ]
    },
    {
      "cell_type": "code",
      "metadata": {
        "id": "tLt7P-A2Mlkq"
      },
      "source": [
        "spending_6mon=[25, 36, 8, 53, 24, 56]\n",
        "spending_6mon[3]+=10"
      ],
      "execution_count": null,
      "outputs": []
    },
    {
      "cell_type": "markdown",
      "metadata": {
        "id": "BZTdPe8Bjk_p"
      },
      "source": [
        "5월 지출을 2로 나누시오"
      ]
    },
    {
      "cell_type": "code",
      "metadata": {
        "id": "UGAtSnXaNpy6"
      },
      "source": [
        "spending_6mon=[25, 36, 8, 53, 24, 56]\n",
        "spending_6mon[4]%=2"
      ],
      "execution_count": null,
      "outputs": []
    },
    {
      "cell_type": "markdown",
      "metadata": {
        "id": "6GNtA_6rE1lY"
      },
      "source": [
        "### 마이너스 인덱스\n",
        "\n",
        "<img src = 'https://github.com/teacher-jiejie/allinone_AI/blob/images/8_%EB%A6%AC%EC%8A%A4%ED%8A%B8%20%EB%A7%88%EC%9D%B4%EB%84%88%EC%8A%A4%EC%9D%B8%EB%8D%B1%EC%8A%A4.png?raw=true' width=500>"
      ]
    },
    {
      "cell_type": "code",
      "metadata": {
        "id": "VYSsCWAuMlVF"
      },
      "source": [
        "\n"
      ],
      "execution_count": null,
      "outputs": []
    },
    {
      "cell_type": "code",
      "metadata": {
        "id": "0Q691rtv9-bt"
      },
      "source": [
        "\n"
      ],
      "execution_count": null,
      "outputs": []
    },
    {
      "cell_type": "markdown",
      "metadata": {
        "id": "mcMUi8x-OEod"
      },
      "source": [
        "#  2.  리스트의 다양한 기능\n",
        "\n",
        "### 리스트 길이 확인 \n",
        "> len(리스트이름)           \n",
        "\n"
      ]
    },
    {
      "cell_type": "code",
      "metadata": {
        "id": "PVBaOrEONp4H"
      },
      "source": [
        ""
      ],
      "execution_count": null,
      "outputs": []
    },
    {
      "cell_type": "markdown",
      "metadata": {
        "id": "E_Y7AFD0TFIB"
      },
      "source": [
        "### 리스트에 데이터 추가하기\n",
        "\n",
        "> 리스트이름.append(데이터)  \n",
        "\n",
        "\n",
        "\n",
        "```\n",
        "food = ['피자','치킨','떡볶이','스테이크','파스타']\n",
        "```\n",
        "\n",
        "\n"
      ]
    },
    {
      "cell_type": "code",
      "metadata": {
        "id": "PYw7ooYGNp65"
      },
      "source": [
        "food = ['피자','치킨','떡볶이','스테이크','파스타']\n",
        "# 감자칩 추가\n",
        "food.append('감자칩')"
      ],
      "execution_count": null,
      "outputs": []
    },
    {
      "cell_type": "code",
      "metadata": {
        "id": "I7i_vU_D-rGP"
      },
      "source": [
        "# 카레 추가\n",
        "food.append('카레')"
      ],
      "execution_count": null,
      "outputs": []
    },
    {
      "cell_type": "markdown",
      "metadata": {
        "id": "IGU9mv18M_PG"
      },
      "source": [
        "### 빈 리스트 만들고 데이터 추가하기"
      ]
    },
    {
      "cell_type": "code",
      "metadata": {
        "id": "GYzqWARONDK-"
      },
      "source": [
        "# 해야할 일을 저장하는 리스트 to_do"
      ],
      "execution_count": null,
      "outputs": []
    },
    {
      "cell_type": "code",
      "metadata": {
        "id": "StowkhzONDOz",
        "colab": {
          "base_uri": "https://localhost:8080/"
        },
        "outputId": "1da75c4e-a67a-408f-fc80-b45cd0839714"
      },
      "source": [
        "# 해야할 일을 입력받아 to_do에 저장하기\n",
        "to_do=[]\n",
        "for i in range(3):\n",
        "  li_input=input('할말 입력하세요!')\n",
        "  to_do.append(li_input)\n",
        "  print(to_do)"
      ],
      "execution_count": 17,
      "outputs": [
        {
          "output_type": "stream",
          "name": "stdout",
          "text": [
            "할말 입력하세요!가\n",
            "['가']\n",
            "할말 입력하세요!나\n",
            "['가', '나']\n",
            "할말 입력하세요!다\n",
            "['가', '나', '다']\n"
          ]
        }
      ]
    },
    {
      "cell_type": "code",
      "metadata": {
        "id": "nUvvSu-_NDsg"
      },
      "source": [
        ""
      ],
      "execution_count": null,
      "outputs": []
    },
    {
      "cell_type": "markdown",
      "metadata": {
        "id": "VcinMKvjPO_n"
      },
      "source": [
        "### 리스트 슬라이싱\n",
        "\n",
        "\n",
        "> 리스트[시작숫자 : 종료숫자]\n",
        "\n",
        "<img src = 'https://github.com/teacher-jiejie/allinone_AI/blob/images/9_%EB%A6%AC%EC%8A%A4%ED%8A%B8%EC%8A%AC%EB%9D%BC%EC%9D%B4%EC%8B%B1.png?raw=true' width=500>\n",
        "\n",
        "\n",
        "종료숫자-1 까지 잘라내는 것\n",
        "\n",
        "```\n",
        "abc[2:5]       # abc[2]~abc[4]까지 슬라이싱\n",
        "abc[4:9]       # abc[4]~abc[8]까지 슬라이싱\n",
        "```\n",
        "\n",
        "\n",
        "\n",
        "\n",
        "```\n",
        "food = ['피자','치킨','떡볶이','스테이크','파스타']\n",
        "```\n",
        "\n",
        "\n",
        "\n",
        "\n",
        "\n",
        "\n"
      ]
    },
    {
      "cell_type": "code",
      "metadata": {
        "id": "skKBPcWnO31V"
      },
      "source": [
        "food = ['피자','치킨','떡볶이','스테이크','파스타']"
      ],
      "execution_count": null,
      "outputs": []
    },
    {
      "cell_type": "code",
      "metadata": {
        "id": "5T90E9u2PzQl",
        "colab": {
          "base_uri": "https://localhost:8080/"
        },
        "outputId": "14355b1e-b60a-4d6f-a6b0-9108c9028566"
      },
      "source": [
        "# 떡볶이, 스테이크만 골라내기\n",
        "food = ['피자','치킨','떡볶이','스테이크','파스타']\n",
        "print(food[2:4])"
      ],
      "execution_count": 2,
      "outputs": [
        {
          "output_type": "stream",
          "name": "stdout",
          "text": [
            "['떡볶이', '스테이크']\n"
          ]
        }
      ]
    },
    {
      "cell_type": "code",
      "metadata": {
        "id": "u8_ZjYbVPzXv",
        "colab": {
          "base_uri": "https://localhost:8080/"
        },
        "outputId": "0db743ba-8f72-47d5-86f2-330b612fc7d7"
      },
      "source": [
        "# 처음부터 스테이크까지 골라내기\n",
        "food = ['피자','치킨','떡볶이','스테이크','파스타']\n",
        "print(food[:4])"
      ],
      "execution_count": 3,
      "outputs": [
        {
          "output_type": "stream",
          "name": "stdout",
          "text": [
            "['피자', '치킨', '떡볶이', '스테이크']\n"
          ]
        }
      ]
    },
    {
      "cell_type": "code",
      "metadata": {
        "id": "DGT1u07APzWH"
      },
      "source": [
        "# 뒤에서 n개 데이터 슬라이싱\n",
        "food = ['피자','치킨','떡볶이','스테이크','파스타']\n",
        "print(food[-n:]"
      ],
      "execution_count": null,
      "outputs": []
    },
    {
      "cell_type": "markdown",
      "metadata": {
        "id": "2GzeP7MRQ1BC"
      },
      "source": [
        "### 문자열 슬라이싱"
      ]
    },
    {
      "cell_type": "code",
      "metadata": {
        "id": "trbsdMEzQ38P"
      },
      "source": [
        "str=['나는야','슈니','서울여대']"
      ],
      "execution_count": null,
      "outputs": []
    },
    {
      "cell_type": "code",
      "metadata": {
        "id": "uJp-ceSnQ3_b",
        "colab": {
          "base_uri": "https://localhost:8080/"
        },
        "outputId": "4b07f943-fdf3-47de-b0eb-d9a30f320240"
      },
      "source": [
        "str=['나는야','슈니','서울여대']\n",
        "print(str[:])"
      ],
      "execution_count": 14,
      "outputs": [
        {
          "output_type": "stream",
          "name": "stdout",
          "text": [
            "['나는야', '슈니', '서울여대']\n"
          ]
        }
      ]
    },
    {
      "cell_type": "code",
      "metadata": {
        "id": "cUQ_6ORgQ4BE",
        "colab": {
          "base_uri": "https://localhost:8080/"
        },
        "outputId": "010e8a32-6c1a-4a7d-f08b-61cf4f988f4b"
      },
      "source": [
        "str=['나는야','슈니','서울여대']\n",
        "print(str[2:])"
      ],
      "execution_count": 13,
      "outputs": [
        {
          "output_type": "stream",
          "name": "stdout",
          "text": [
            "['서울여대']\n"
          ]
        }
      ]
    },
    {
      "cell_type": "code",
      "metadata": {
        "id": "y1Wh1NQqDTc2",
        "colab": {
          "base_uri": "https://localhost:8080/"
        },
        "outputId": "8beb5102-dbe4-49d8-ca1a-ef1ca9ba6489"
      },
      "source": [
        "str=['나는야','슈니','서울여대']\n",
        "print(str[1:3])"
      ],
      "execution_count": 12,
      "outputs": [
        {
          "output_type": "stream",
          "name": "stdout",
          "text": [
            "['슈니', '서울여대']\n"
          ]
        }
      ]
    },
    {
      "cell_type": "markdown",
      "metadata": {
        "id": "Teyp7VgNO0Rt"
      },
      "source": [
        "### split()으로 문자열 슬라이싱"
      ]
    },
    {
      "cell_type": "code",
      "metadata": {
        "id": "EsKzoWaCO4u5"
      },
      "source": [
        "a='나는야 우주최강'"
      ],
      "execution_count": null,
      "outputs": []
    },
    {
      "cell_type": "code",
      "metadata": {
        "id": "a7DAbSNRO4yY",
        "colab": {
          "base_uri": "https://localhost:8080/"
        },
        "outputId": "b2f922d9-4a6f-4ebf-d6e4-a87cb29a588d"
      },
      "source": [
        "# 공백을 기준으로 split\n",
        "a='나는야 우주최강'\n",
        "print(a.split())"
      ],
      "execution_count": 18,
      "outputs": [
        {
          "output_type": "stream",
          "name": "stdout",
          "text": [
            "['나는야', '우주최강']\n"
          ]
        }
      ]
    },
    {
      "cell_type": "code",
      "metadata": {
        "id": "6hR9rP6vO41D",
        "colab": {
          "base_uri": "https://localhost:8080/"
        },
        "outputId": "e6b06c13-3df8-4ebb-bbf6-b1788ecf271e"
      },
      "source": [
        "# 0을 기준으로 split\n",
        "to_date='2022-04-08'\n",
        "print(to_date.split('0'))"
      ],
      "execution_count": 23,
      "outputs": [
        {
          "output_type": "stream",
          "name": "stdout",
          "text": [
            "['2', '22-', '4-', '8']\n"
          ]
        }
      ]
    },
    {
      "cell_type": "code",
      "metadata": {
        "id": "WLiSb170PR-a",
        "colab": {
          "base_uri": "https://localhost:8080/"
        },
        "outputId": "8eb7ead5-de04-429c-9ad0-bf7990c40232"
      },
      "source": [
        "# -을 기준으로 split\n",
        "to_date='2022-04-08'\n",
        "print(to_date.split('-'))"
      ],
      "execution_count": 24,
      "outputs": [
        {
          "output_type": "stream",
          "name": "stdout",
          "text": [
            "['2022', '04', '08']\n"
          ]
        }
      ]
    },
    {
      "cell_type": "code",
      "metadata": {
        "id": "ydZcHgZJPSBf"
      },
      "source": [
        "# split의 결과는 리스트이므로 인덱스 사용 가능\n"
      ],
      "execution_count": null,
      "outputs": []
    },
    {
      "cell_type": "code",
      "metadata": {
        "id": "OsKtLXxXPjbx"
      },
      "source": [
        "# split의 결과는 문자이므로 숫자로 변환해야 함\n"
      ],
      "execution_count": null,
      "outputs": []
    },
    {
      "cell_type": "markdown",
      "metadata": {
        "id": "ci8lL5bpkDqH"
      },
      "source": [
        "\n",
        "실습\n",
        "```\n",
        "date = '2021-01-25'\n",
        "```\n",
        "\n",
        "위 date에서 월(month)만 골라내 숫자형태로 변수 mon에 저장하시오."
      ]
    },
    {
      "cell_type": "code",
      "metadata": {
        "id": "oi4InWd-R5hK"
      },
      "source": [
        "\n",
        "# 월만 골라내기\n"
      ],
      "execution_count": null,
      "outputs": []
    },
    {
      "cell_type": "markdown",
      "metadata": {
        "id": "1SNURQRPkLjp"
      },
      "source": [
        "위 date에서 일(day)만 숫자 형태로 골라내 변수에 저장하시오."
      ]
    },
    {
      "cell_type": "code",
      "metadata": {
        "id": "EV6_JAjDR5lz"
      },
      "source": [
        "# 일만 골라내기\n"
      ],
      "execution_count": null,
      "outputs": []
    },
    {
      "cell_type": "markdown",
      "metadata": {
        "id": "g9zPvPI_L77Z"
      },
      "source": [
        "# 3. 리스트와 제어구조"
      ]
    },
    {
      "cell_type": "markdown",
      "metadata": {
        "id": "rSZ692PtQhAL"
      },
      "source": [
        "### 1) for a in data 에서 data에 리스트를 넣을 때 "
      ]
    },
    {
      "cell_type": "markdown",
      "metadata": {
        "id": "FAq15VaRk9Ai"
      },
      "source": [
        "다음 spend의 모든 원소를 차례대로 출력하시오 \n",
        "\n",
        "\n",
        "```\n",
        "spend = [43, 12, 65, 67, 23, 12]\n",
        "```\n",
        "\n"
      ]
    },
    {
      "cell_type": "code",
      "metadata": {
        "id": "F2EVpvIMt4_R"
      },
      "source": [
        "spend = [43, 12, 65, 67, 23, 12]"
      ],
      "execution_count": null,
      "outputs": []
    },
    {
      "cell_type": "code",
      "metadata": {
        "id": "w8oyLMGlpklS",
        "colab": {
          "base_uri": "https://localhost:8080/"
        },
        "outputId": "eeb8a0cb-4495-4852-eb61-8ab3fb56bfbe"
      },
      "source": [
        "# 50이상 쓴 금액을 출력하시오\n",
        "spend = [43, 12, 65, 67, 23, 12]\n",
        "for i in spend:\n",
        "  if i>=50:\n",
        "    print(i)"
      ],
      "execution_count": 28,
      "outputs": [
        {
          "output_type": "stream",
          "name": "stdout",
          "text": [
            "65\n",
            "67\n"
          ]
        }
      ]
    },
    {
      "cell_type": "markdown",
      "metadata": {
        "id": "qRSeABPrINGK"
      },
      "source": [
        "\n",
        "\n",
        "### 2) for a in data 에서 data에 range()를 넣을 때\n"
      ]
    },
    {
      "cell_type": "code",
      "metadata": {
        "id": "XP9lM2GHt5B0"
      },
      "source": [
        "# 인덱스를 활용하고 싶을 때 range()\n",
        "spend = [43, 12, 65, 67, 23, 12]\n",
        "for i in range(3):\n",
        "  "
      ],
      "execution_count": null,
      "outputs": []
    },
    {
      "cell_type": "code",
      "metadata": {
        "id": "draOPFNGIkAr"
      },
      "source": [
        "# 인덱스는 0부터 시작\n"
      ],
      "execution_count": null,
      "outputs": []
    },
    {
      "cell_type": "code",
      "metadata": {
        "id": "dx99LE7Xt5EO"
      },
      "source": [
        "# len() 활용하기\n"
      ],
      "execution_count": null,
      "outputs": []
    },
    {
      "cell_type": "code",
      "metadata": {
        "id": "YBNqt2c-t5Gk"
      },
      "source": [
        "# range()가 0부터 시작하면 생략 가능\n"
      ],
      "execution_count": null,
      "outputs": []
    },
    {
      "cell_type": "markdown",
      "metadata": {
        "id": "Mliij-AiZr4_"
      },
      "source": [
        "# 4. 이차원 리스트\n",
        "\n",
        "<img src ='https://github.com/teacher-jiejie/allinone_AI/blob/images/14_%EC%9D%B4%EC%B0%A8%EC%9B%90%20%EB%A6%AC%EC%8A%A4%ED%8A%B8.png?raw=true' width = 700>"
      ]
    },
    {
      "cell_type": "code",
      "metadata": {
        "id": "4acOxb9Dul8O",
        "colab": {
          "base_uri": "https://localhost:8080/"
        },
        "outputId": "25f132ae-54ff-4205-e330-7b8db8b586d2"
      },
      "source": [
        "abc=[[1, 2, 3], [4, 5, 6], [7, 8, 9]]\n",
        "type(abc)"
      ],
      "execution_count": 29,
      "outputs": [
        {
          "output_type": "execute_result",
          "data": {
            "text/plain": [
              "list"
            ]
          },
          "metadata": {},
          "execution_count": 29
        }
      ]
    },
    {
      "cell_type": "code",
      "metadata": {
        "id": "BQ0u3IM-yUd_",
        "colab": {
          "base_uri": "https://localhost:8080/"
        },
        "outputId": "0214de5a-675c-4f3b-d77d-d1457abca46c"
      },
      "source": [
        "abc=[[1, 2, 3], [4, 5, 6], [7, 8, 9]]\n",
        "print(abc[0])"
      ],
      "execution_count": 30,
      "outputs": [
        {
          "output_type": "stream",
          "name": "stdout",
          "text": [
            "[1, 2, 3]\n"
          ]
        }
      ]
    },
    {
      "cell_type": "code",
      "metadata": {
        "id": "gyt8s3mtpiTF",
        "colab": {
          "base_uri": "https://localhost:8080/"
        },
        "outputId": "552ce8de-7053-4e73-d57f-e150e043cee4"
      },
      "source": [
        "abc=[[1, 2, 3], [4, 5, 6], [7, 8, 9]]\n",
        "print(abc[1])"
      ],
      "execution_count": 32,
      "outputs": [
        {
          "output_type": "stream",
          "name": "stdout",
          "text": [
            "[4, 5, 6]\n"
          ]
        }
      ]
    },
    {
      "cell_type": "code",
      "metadata": {
        "id": "smaYOq_bpiY8",
        "colab": {
          "base_uri": "https://localhost:8080/"
        },
        "outputId": "732e2254-7659-4f3b-c878-9c2b6e3f5145"
      },
      "source": [
        "abc=[[1, 2, 3], [4, 5, 6], [7, 8, 9]]\n",
        "print(abc[2])"
      ],
      "execution_count": 31,
      "outputs": [
        {
          "output_type": "stream",
          "name": "stdout",
          "text": [
            "[7, 8, 9]\n"
          ]
        }
      ]
    },
    {
      "cell_type": "markdown",
      "metadata": {
        "id": "IROs-Ha0yUj2"
      },
      "source": [
        "## 이차원 리스트의 인덱스\n",
        "\n",
        "<img src = 'https://github.com/teacher-jiejie/allinone_AI/blob/images/15_%EC%9D%B4%EC%B0%A8%EC%9B%90%20%EB%A6%AC%EC%8A%A4%ED%8A%B8%20%EC%9D%B8%EB%8D%B1%EC%8A%A4.png?raw=true' width = 700>"
      ]
    },
    {
      "cell_type": "code",
      "metadata": {
        "id": "1U_e8JPXul-I",
        "colab": {
          "base_uri": "https://localhost:8080/"
        },
        "outputId": "b7bf1e1b-0d0f-4880-9e05-f8fef7bec935"
      },
      "source": [
        "# 1 출력하기\n",
        "abc=[[1, 2, 3], [4, 5, 6], [7, 8, 9]]\n",
        "print(abc[0][0])"
      ],
      "execution_count": 34,
      "outputs": [
        {
          "output_type": "stream",
          "name": "stdout",
          "text": [
            "1\n"
          ]
        }
      ]
    },
    {
      "cell_type": "markdown",
      "metadata": {
        "id": "-bcfTuieldf0"
      },
      "source": [
        "이차원 리스트 abc에서 인덱스를 활용해 다음 숫자를 출력하시오"
      ]
    },
    {
      "cell_type": "code",
      "metadata": {
        "id": "lhEJ64vTumAI",
        "colab": {
          "base_uri": "https://localhost:8080/"
        },
        "outputId": "70943610-30e4-4614-cf23-e113c1b8ff65"
      },
      "source": [
        "# 6 출력하기\n",
        "abc=[[1, 2, 3], [4, 5, 6], [7, 8, 9]]\n",
        "print(abc[1][2])"
      ],
      "execution_count": 35,
      "outputs": [
        {
          "output_type": "stream",
          "name": "stdout",
          "text": [
            "6\n"
          ]
        }
      ]
    },
    {
      "cell_type": "code",
      "metadata": {
        "id": "8dolImUrumCS",
        "colab": {
          "base_uri": "https://localhost:8080/"
        },
        "outputId": "bf0f4d5a-1e42-490a-c1f3-b58e024ac34c"
      },
      "source": [
        "# 8 출력하기\n",
        "abc=[[1, 2, 3], [4, 5, 6], [7, 8, 9]]\n",
        "print(abc[2][1])"
      ],
      "execution_count": 36,
      "outputs": [
        {
          "output_type": "stream",
          "name": "stdout",
          "text": [
            "8\n"
          ]
        }
      ]
    },
    {
      "cell_type": "markdown",
      "metadata": {
        "id": "2YUUytTsftU5"
      },
      "source": [
        "## 반복문과 이차원 리스트"
      ]
    },
    {
      "cell_type": "code",
      "metadata": {
        "id": "vIwkSkIuyYwV"
      },
      "source": [
        ""
      ],
      "execution_count": null,
      "outputs": []
    },
    {
      "cell_type": "markdown",
      "metadata": {
        "id": "-bbMjsKVyY4B"
      },
      "source": [
        "> 이차원리스트 반복 원리\n",
        "\n",
        "<img src = 'https://github.com/teacher-jiejie/allinone_AI/blob/images/16_%EC%9D%B4%EC%B0%A8%EC%9B%90%20%EB%A6%AC%EC%8A%A4%ED%8A%B8%20%EB%B0%98%EB%B3%B5%EA%B5%AC%EC%A1%B0.png?raw=true' width=800>"
      ]
    },
    {
      "cell_type": "code",
      "metadata": {
        "id": "t4LqJgCdyh03",
        "colab": {
          "base_uri": "https://localhost:8080/"
        },
        "outputId": "3bd31369-6d5e-447d-a64b-a16e2071d8f4"
      },
      "source": [
        "# 모든 줄의 첫번째 데이터만 출력\n",
        "abc=[[1, 2, 3], [4, 5, 6], [7, 8, 9]]\n",
        "for i in abc:\n",
        "  print(i[0])"
      ],
      "execution_count": 41,
      "outputs": [
        {
          "output_type": "stream",
          "name": "stdout",
          "text": [
            "1\n",
            "4\n",
            "7\n"
          ]
        }
      ]
    },
    {
      "cell_type": "code",
      "metadata": {
        "id": "N3J7nAOrrTWs",
        "colab": {
          "base_uri": "https://localhost:8080/"
        },
        "outputId": "e32886bd-675b-4525-dea8-d2d3e85212e4"
      },
      "source": [
        "# 모든 줄의 마지막 데이터(세번째 열)만 출력\n",
        "abc=[[1, 2, 3], [4, 5, 6], [7, 8, 9]]\n",
        "for i in abc:\n",
        "  print(i[-1])"
      ],
      "execution_count": 40,
      "outputs": [
        {
          "output_type": "stream",
          "name": "stdout",
          "text": [
            "3\n",
            "6\n",
            "9\n"
          ]
        }
      ]
    },
    {
      "cell_type": "markdown",
      "metadata": {
        "id": "gKl6ITBVf4dN"
      },
      "source": [
        "# 5. 올림픽 데이터 "
      ]
    },
    {
      "cell_type": "markdown",
      "metadata": {
        "id": "bIBp6iFLMfqY"
      },
      "source": [
        "<img src= 'https://github.com/teacher-jiejie/allinone_AI/blob/images/17_%EC%98%AC%EB%A6%BC%ED%94%BD.png?raw=true' width=500>"
      ]
    },
    {
      "cell_type": "markdown",
      "metadata": {
        "id": "XEF7EOlBLJUl"
      },
      "source": [
        "\n",
        "\n",
        "```\n",
        "data =[\n",
        "       [1,'미국',46,37,38,121],\n",
        "       [2,'영국',27,23,17,67],\n",
        "       [3,'중국',26,18,26,70],\n",
        "       [4,'러시아',19,18,19,56],\n",
        "       [5,'독일',17,10,15,42],\n",
        "       [6,'일본',12,8,21,41],\n",
        "       [7,'프랑스',10,18,14,42],\n",
        "       [8,'대한민국',9,3,9,21] \n",
        "       ]\n",
        "```\n",
        "\n"
      ]
    },
    {
      "cell_type": "code",
      "metadata": {
        "id": "0VrPyd2vMfqZ",
        "colab": {
          "base_uri": "https://localhost:8080/"
        },
        "outputId": "d53aaf3f-768d-4ff1-ee7b-7e2eb7f5c095"
      },
      "source": [
        "data=[1,'미국',46,37,38,121],[2,'영국',27,23,17,67],[3,'중국',26,18,26,70],[4,'러시아',19,18,19,56],[5,'독일',17,10,15,42],[6,'일본',12,8,21,41],[7,'프랑스',10,18,14,42],[8,'대한민국',9,3,9,21] \n",
        "print(len(data))"
      ],
      "execution_count": 42,
      "outputs": [
        {
          "output_type": "stream",
          "name": "stdout",
          "text": [
            "8\n"
          ]
        }
      ]
    },
    {
      "cell_type": "code",
      "metadata": {
        "id": "G7IrajJ1Mfqa",
        "colab": {
          "base_uri": "https://localhost:8080/"
        },
        "outputId": "547aeab7-adb3-4166-e8ec-ae38706d0d1a"
      },
      "source": [
        "# 순위권에 든 모든 국가를 출력하시오\n",
        "data=[1,'미국',46,37,38,121],[2,'영국',27,23,17,67],[3,'중국',26,18,26,70],[4,'러시아',19,18,19,56],[5,'독일',17,10,15,42],[6,'일본',12,8,21,41],[7,'프랑스',10,18,14,42],[8,'대한민국',9,3,9,21]\n",
        "for i in data:\n",
        "  print(i[1:2])"
      ],
      "execution_count": 59,
      "outputs": [
        {
          "output_type": "stream",
          "name": "stdout",
          "text": [
            "['미국']\n",
            "['영국']\n",
            "['중국']\n",
            "['러시아']\n",
            "['독일']\n",
            "['일본']\n",
            "['프랑스']\n",
            "['대한민국']\n"
          ]
        }
      ]
    },
    {
      "cell_type": "code",
      "metadata": {
        "id": "Eu7RUnssMfqb",
        "colab": {
          "base_uri": "https://localhost:8080/"
        },
        "outputId": "964502d7-70fd-4398-cd4b-0f0a79673020"
      },
      "source": [
        "# 금메달보다 은메달 개수가 많은 나라를 출력하시오\n",
        "data=[1,'미국',46,37,38,121],[2,'영국',27,23,17,67],[3,'중국',26,18,26,70],[4,'러시아',19,18,19,56],[5,'독일',17,10,15,42],[6,'일본',12,8,21,41],[7,'프랑스',10,18,14,42],[8,'대한민국',9,3,9,21]\n",
        "for row in data:\n",
        "  if row[2]<row[3]:\n",
        "    print(row[1])"
      ],
      "execution_count": 52,
      "outputs": [
        {
          "output_type": "stream",
          "name": "stdout",
          "text": [
            "프랑스\n"
          ]
        }
      ]
    },
    {
      "cell_type": "code",
      "metadata": {
        "id": "1EbMZLoZMfqc",
        "colab": {
          "base_uri": "https://localhost:8080/"
        },
        "outputId": "f32d3e2e-7168-4b33-d76e-61c3a9362872"
      },
      "source": [
        "# 금메달보다 동메달 개수가 많은 나라를 출력하시오\n",
        "data=[1,'미국',46,37,38,121],[2,'영국',27,23,17,67],[3,'중국',26,18,26,70],[4,'러시아',19,18,19,56],[5,'독일',17,10,15,42],[6,'일본',12,8,21,41],[7,'프랑스',10,18,14,42],[8,'대한민국',9,3,9,21]\n",
        "for row in data:\n",
        "  if row[2]<row[4]:\n",
        "    print(row[1:2])"
      ],
      "execution_count": 58,
      "outputs": [
        {
          "output_type": "stream",
          "name": "stdout",
          "text": [
            "['일본']\n",
            "['프랑스']\n"
          ]
        }
      ]
    },
    {
      "cell_type": "code",
      "metadata": {
        "id": "LtY4aNsQMfqd",
        "colab": {
          "base_uri": "https://localhost:8080/"
        },
        "outputId": "51325484-3829-40c0-d2b2-d03dc838330a"
      },
      "source": [
        "# 모든 나라의 금메달 합을 구하시오\n",
        "data=[1,'미국',46,37,38,121],[2,'영국',27,23,17,67],[3,'중국',26,18,26,70],[4,'러시아',19,18,19,56],[5,'독일',17,10,15,42],[6,'일본',12,8,21,41],[7,'프랑스',10,18,14,42],[8,'대한민국',9,3,9,21]\n",
        "total_gold=0\n",
        "for row in data:\n",
        "  total_gold+=row[2]\n",
        "print(total_gold)"
      ],
      "execution_count": 55,
      "outputs": [
        {
          "output_type": "stream",
          "name": "stdout",
          "text": [
            "166\n"
          ]
        }
      ]
    },
    {
      "cell_type": "code",
      "metadata": {
        "id": "S07712BhMfqd"
      },
      "source": [
        ""
      ],
      "execution_count": null,
      "outputs": []
    }
  ]
}