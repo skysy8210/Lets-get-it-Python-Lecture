{
  "nbformat": 4,
  "nbformat_minor": 0,
  "metadata": {
    "colab": {
      "name": "5장-(실습용)-반복문.ipynb",
      "provenance": [],
      "collapsed_sections": [],
      "include_colab_link": true
    },
    "kernelspec": {
      "name": "python3",
      "display_name": "Python 3"
    }
  },
  "cells": [
    {
      "cell_type": "markdown",
      "metadata": {
        "id": "view-in-github",
        "colab_type": "text"
      },
      "source": [
        "<a href=\"https://colab.research.google.com/github/skysy8210/Lets-get-it-Python-Lecture/blob/main/5%EC%9E%A5_(%EC%8B%A4%EC%8A%B5%EC%9A%A9)_%EB%B0%98%EB%B3%B5%EB%AC%B8.ipynb\" target=\"_parent\"><img src=\"https://colab.research.google.com/assets/colab-badge.svg\" alt=\"Open In Colab\"/></a>"
      ]
    },
    {
      "cell_type": "markdown",
      "metadata": {
        "id": "UCdFsLZvKa_C"
      },
      "source": [
        "# 1. 반복문\n",
        "<img src = 'https://github.com/teacher-jiejie/allinone_AI/blob/images/4_%EB%B0%98%EB%B3%B5%EB%AC%B8.png?raw=true' width=500>\n",
        "\n"
      ]
    },
    {
      "cell_type": "markdown",
      "metadata": {
        "id": "oEfcTfzDFlqS"
      },
      "source": [
        "<img src ='https://github.com/teacher-jiejie/allinone_AI/blob/images/5_%EB%B0%98%EB%B3%B5%EB%AC%B8%20%EB%8F%99%EC%9E%91%EA%B5%AC%EC%A1%B0.png?raw=true' width=500>"
      ]
    },
    {
      "cell_type": "markdown",
      "metadata": {
        "id": "wKvrSc-qou3A"
      },
      "source": [
        "# 2. range(시작숫자, 종료숫자)"
      ]
    },
    {
      "cell_type": "markdown",
      "metadata": {
        "id": "y1BgbiiV1H11"
      },
      "source": [
        "> range()는 종료숫자-1 까지 포함한다"
      ]
    },
    {
      "cell_type": "markdown",
      "metadata": {
        "id": "_8ebt0AF1bAw"
      },
      "source": [
        "> range()에서 시작숫자가 0일 때에는 생략 가능"
      ]
    },
    {
      "cell_type": "markdown",
      "metadata": {
        "id": "nDc1ylrt03nH"
      },
      "source": [
        "# 3. for i in data :\n",
        "일반적으로 반복문에서는 i라는 변수를 사용합니다"
      ]
    },
    {
      "cell_type": "markdown",
      "metadata": {
        "id": "uYdboDiW4n7G"
      },
      "source": [
        "1부터 50까지의 숫자의 합을 구해보자.\n",
        "ex) 1+2+3+...49+50"
      ]
    },
    {
      "cell_type": "code",
      "metadata": {
        "id": "qQGYUE-M4nZD",
        "colab": {
          "base_uri": "https://localhost:8080/"
        },
        "outputId": "1cb0f557-8757-40ad-ca23-79d7081d5e75"
      },
      "source": [
        "result=0\n",
        "for i in range(1, 51):\n",
        "  result=result+i\n",
        "print(result)"
      ],
      "execution_count": 2,
      "outputs": [
        {
          "output_type": "stream",
          "name": "stdout",
          "text": [
            "1275\n"
          ]
        }
      ]
    },
    {
      "cell_type": "markdown",
      "metadata": {
        "id": "ZFSryQew5TMk"
      },
      "source": [
        "숫자 하나를 입력받고, 1부터 입력받은 숫자까지의 곱을 구해보세요.\n",
        "<br/>\n",
        "ex) 5를 입력받은 경우, 1x2x3x4x5 결과 출력하기"
      ]
    },
    {
      "cell_type": "code",
      "metadata": {
        "id": "J8hgPMKC06eR",
        "colab": {
          "base_uri": "https://localhost:8080/"
        },
        "outputId": "07f63ffd-cc9a-4de4-de27-29968e42df09"
      },
      "source": [
        "num=int(input('숫자를 입력하세요 :'))\n",
        "result=1\n",
        "for i in range(1, num+1):\n",
        "  result= result*i\n",
        "print(result)"
      ],
      "execution_count": 6,
      "outputs": [
        {
          "output_type": "stream",
          "name": "stdout",
          "text": [
            "숫자를 입력하세요 :4\n",
            "24\n"
          ]
        }
      ]
    },
    {
      "cell_type": "markdown",
      "metadata": {
        "id": "wHPuVO9W57ym"
      },
      "source": [
        "# 4. 구구단 출력 프로그램\n",
        "4단 출력하기 <br/>\n",
        "\n",
        "```\n",
        "4 x 1 = 4\n",
        "4 x 2 = 8\n",
        "...\n",
        "4 x 8 = 32\n",
        "4 x 9 = 36\n",
        "```\n",
        "\n",
        "\n"
      ]
    },
    {
      "cell_type": "code",
      "metadata": {
        "id": "3g1T-QQw5u2b",
        "colab": {
          "base_uri": "https://localhost:8080/"
        },
        "outputId": "cb620f58-b9aa-4c7f-decc-0f98dcee34cf"
      },
      "source": [
        "for i in range(1, 10):\n",
        "  print('4 x', i, '=', 4*i)"
      ],
      "execution_count": 8,
      "outputs": [
        {
          "output_type": "stream",
          "name": "stdout",
          "text": [
            "4 x 1 = 4\n",
            "4 x 2 = 8\n",
            "4 x 3 = 12\n",
            "4 x 4 = 16\n",
            "4 x 5 = 20\n",
            "4 x 6 = 24\n",
            "4 x 7 = 28\n",
            "4 x 8 = 32\n",
            "4 x 9 = 36\n"
          ]
        }
      ]
    },
    {
      "cell_type": "markdown",
      "metadata": {
        "id": "v_SeRM6N7IH8"
      },
      "source": [
        "구구단 외울 단을 입력받아, 해당 숫자의 구구단을 외워봅시다.<br/>\n",
        "ex. 5를 입력받으면 5단 외우기"
      ]
    },
    {
      "cell_type": "code",
      "metadata": {
        "id": "wvdfZY6F7ChW",
        "colab": {
          "base_uri": "https://localhost:8080/"
        },
        "outputId": "23a19bea-942c-40a8-9672-8b7758d1680f"
      },
      "source": [
        "num=int(input('몇 단을 외울까요? :'))\n",
        "if 1<=num<=9:\n",
        "  for i in range(1, 10):\n",
        "    print(num, 'x', i, '=', num*i)\n",
        "else:\n",
        "  print('다시 입력하세요.')"
      ],
      "execution_count": 11,
      "outputs": [
        {
          "output_type": "stream",
          "name": "stdout",
          "text": [
            "몇 단을 외울까요? :5\n",
            "5 x 1 = 5\n",
            "5 x 2 = 10\n",
            "5 x 3 = 15\n",
            "5 x 4 = 20\n",
            "5 x 5 = 25\n",
            "5 x 6 = 30\n",
            "5 x 7 = 35\n",
            "5 x 8 = 40\n",
            "5 x 9 = 45\n"
          ]
        }
      ]
    },
    {
      "cell_type": "markdown",
      "metadata": {
        "id": "_uWiKA3x7tVP"
      },
      "source": [
        "# 5. 랜덤 구구단 게임 작성하기\n",
        "\n",
        "랜덤으로 곱셈문제를 내고, 답을 맞추는 게임"
      ]
    },
    {
      "cell_type": "markdown",
      "metadata": {
        "id": "1CLls7wl72Yr"
      },
      "source": [
        "### 라이브러리란\n",
        "<img src='https://github.com/teacher-jiejie/allinone_AI/blob/images/47_%EB%9D%BC%EC%9D%B4%EB%B8%8C%EB%9F%AC%EB%A6%AC.png?raw=true' width=500>\n",
        "<br/>\n",
        "<br/>\n",
        "\n",
        "<img src='https://github.com/teacher-jiejie/allinone_AI/blob/images/48_%EB%9D%BC%EC%9D%B4%EB%B8%8C%EB%9F%AC%EB%A6%AC.png?raw=true' width=500>"
      ]
    },
    {
      "cell_type": "code",
      "metadata": {
        "id": "dZkX0MhL7dsF",
        "colab": {
          "base_uri": "https://localhost:8080/"
        },
        "outputId": "895e2ae6-689f-4ca4-d5d2-a5900105251e"
      },
      "source": [
        "import random\n",
        "print(random.randrange(1, 10))"
      ],
      "execution_count": 23,
      "outputs": [
        {
          "output_type": "stream",
          "name": "stdout",
          "text": [
            "9\n"
          ]
        }
      ]
    },
    {
      "cell_type": "markdown",
      "metadata": {
        "id": "xH8dkBjp9g2I"
      },
      "source": [
        "구구단 게임 형식 \n",
        "\n",
        "\n",
        "```\n",
        "구구단을 외자! 구구단을 외자! \n",
        "7 x 9 ? 63\n",
        "3 x 7 ? 21\n",
        "....\n",
        "```\n",
        "\n"
      ]
    },
    {
      "cell_type": "code",
      "metadata": {
        "id": "X307OmrI9RAr",
        "colab": {
          "base_uri": "https://localhost:8080/"
        },
        "outputId": "281cbbf9-2b24-440e-f303-de15b2dcb5bc"
      },
      "source": [
        "print('구구단을 외자! 구구단을 외자!')\n",
        "import random\n",
        "for i in range(10):\n",
        "    a=random.randrange(1, 10)\n",
        "    b=random.randrange(1, 10)\n",
        "    print(a, 'x', b, '=', a*b)"
      ],
      "execution_count": 26,
      "outputs": [
        {
          "output_type": "stream",
          "name": "stdout",
          "text": [
            "구구단을 외자! 구구단을 외자!\n",
            "6 x 7 = 42\n",
            "2 x 2 = 4\n",
            "8 x 3 = 24\n",
            "6 x 5 = 30\n",
            "7 x 4 = 28\n",
            "4 x 2 = 8\n",
            "3 x 4 = 12\n",
            "3 x 1 = 3\n",
            "7 x 8 = 56\n",
            "8 x 5 = 40\n"
          ]
        }
      ]
    },
    {
      "cell_type": "markdown",
      "metadata": {
        "id": "WWRqZgGm-ZtL"
      },
      "source": [
        "구구단 게임에 입력칸을 만들어주자!"
      ]
    },
    {
      "cell_type": "code",
      "metadata": {
        "id": "RMtCyLNw-Xii",
        "colab": {
          "base_uri": "https://localhost:8080/"
        },
        "outputId": "df3ed5a8-b11b-4cb2-90f5-e125c54260b5"
      },
      "source": [
        "import random\n",
        "for i in range(3):\n",
        "  a, b=(random.randint(1, 9)),(random.randint(2, 9))\n",
        "  question=str(a)+'x'+str(b)+'?'\n",
        "  input(question)"
      ],
      "execution_count": 31,
      "outputs": [
        {
          "name": "stdout",
          "output_type": "stream",
          "text": [
            "4x8?32\n",
            "1x6?6\n",
            "3x3?9\n"
          ]
        }
      ]
    },
    {
      "cell_type": "markdown",
      "metadata": {
        "id": "yhW5H934_Lw6"
      },
      "source": [
        "# 6. 반복문 안의 조건문\n",
        "랜덤 구구단 게임에서 입력된 답이 틀렸을 때, '땡! 정답은 00입니다' 출력하기"
      ]
    },
    {
      "cell_type": "code",
      "metadata": {
        "id": "7n-5WOkm-p0w",
        "colab": {
          "base_uri": "https://localhost:8080/"
        },
        "outputId": "7ed36284-449e-4747-c542-0d6f2e45d552"
      },
      "source": [
        "import random\n",
        "for i in range(4):\n",
        "  a, b=random.randint(1, 9), random.randint(2, 9)\n",
        "  answer=int(input(str(a)+'x'+str(b)+'='))\n",
        "  if answer!=a*b:\n",
        "    print('땡! 정답은', a*b, '입니다')"
      ],
      "execution_count": 42,
      "outputs": [
        {
          "output_type": "stream",
          "name": "stdout",
          "text": [
            "1x3=3\n",
            "2x5=11\n",
            "땡! 정답은 10 입니다\n",
            "4x8=32\n",
            "4x4=49\n",
            "땡! 정답은 16 입니다\n"
          ]
        }
      ]
    },
    {
      "cell_type": "markdown",
      "metadata": {
        "id": "qDNUZNuU__KR"
      },
      "source": [
        "1부터 30까지 숫자의 홀수 짝수 판별하기"
      ]
    },
    {
      "cell_type": "code",
      "metadata": {
        "id": "D-vRuwUl_ykp"
      },
      "source": [
        "\n"
      ],
      "execution_count": null,
      "outputs": []
    },
    {
      "cell_type": "code",
      "metadata": {
        "id": "SoaJb-WVAZqu"
      },
      "source": [
        ""
      ],
      "execution_count": null,
      "outputs": []
    }
  ]
}